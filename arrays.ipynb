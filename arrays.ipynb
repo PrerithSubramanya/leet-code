{
 "cells": [
  {
   "cell_type": "markdown",
   "id": "df58ef5a",
   "metadata": {},
   "source": [
    "1. Two Sum\n",
    "Easy\n",
    "\n",
    "22403\n",
    "\n",
    "760\n",
    "\n",
    "Add to List\n",
    "\n",
    "Share\n",
    "Given an array of integers nums and an integer target, return indices of the two numbers such that they add up to target.\n",
    "\n",
    "You may assume that each input would have exactly one solution, and you may not use the same element twice.\n",
    "\n",
    "You can return the answer in any order.\n",
    "\n",
    " \n",
    "\n",
    "Example 1:\n",
    "\n",
    "Input: nums = [2,7,11,15], target = 9\n",
    "Output: [0,1]\n",
    "Output: Because nums[0] + nums[1] == 9, we return [0, 1].\n",
    "Example 2:\n",
    "\n",
    "Input: nums = [3,2,4], target = 6\n",
    "Output: [1,2]\n",
    "Example 3:\n",
    "\n",
    "Input: nums = [3,3], target = 6\n",
    "Output: [0,1]\n",
    " \n",
    "\n",
    "Constraints:\n",
    "\n",
    "2 <= nums.length <= 104\n",
    "-109 <= nums[i] <= 109\n",
    "-109 <= target <= 109\n",
    "Only one valid answer exists.\n",
    " \n",
    "\n",
    "Follow-up: Can you come up with an algorithm that is less than O(n2) time complexity?"
   ]
  },
  {
   "cell_type": "code",
   "execution_count": 7,
   "id": "e1bc32e0",
   "metadata": {},
   "outputs": [
    {
     "data": {
      "text/plain": [
       "[0, 1]"
      ]
     },
     "execution_count": 7,
     "metadata": {},
     "output_type": "execute_result"
    }
   ],
   "source": [
    "from collections import OrderedDict\n",
    "def two_sum(arr, target):\n",
    "    hash_map = OrderedDict()\n",
    "    for i in range(len(arr)):\n",
    "        complement = target - arr[i]\n",
    "        if complement not in hash_map:\n",
    "            hash_map[arr[i]] = i\n",
    "        else:\n",
    "            return [hash_map[complement], i]\n",
    "\n",
    "two_sum([3,3], 6)"
   ]
  },
  {
   "cell_type": "markdown",
   "id": "d1cfaca3",
   "metadata": {},
   "source": [
    "121. Best Time to Buy and Sell Stock\n",
    "Easy\n",
    "\n",
    "9437\n",
    "\n",
    "392\n",
    "\n",
    "Add to List\n",
    "\n",
    "Share\n",
    "You are given an array prices where prices[i] is the price of a given stock on the ith day.\n",
    "\n",
    "You want to maximize your profit by choosing a single day to buy one stock and choosing a different day in the future to sell that stock.\n",
    "\n",
    "Return the maximum profit you can achieve from this transaction. If you cannot achieve any profit, return 0.\n",
    "\n",
    " \n",
    "\n",
    "Example 1:\n",
    "\n",
    "Input: prices = [7,1,5,3,6,4]\n",
    "Output: 5\n",
    "Explanation: Buy on day 2 (price = 1) and sell on day 5 (price = 6), profit = 6-1 = 5.\n",
    "Note that buying on day 2 and selling on day 1 is not allowed because you must buy before you sell.\n",
    "Example 2:\n",
    "\n",
    "Input: prices = [7,6,4,3,1]\n",
    "Output: 0\n",
    "Explanation: In this case, no transactions are done and the max profit = 0.\n",
    " \n",
    "\n",
    "Constraints:\n",
    "\n",
    "1 <= prices.length <= 105\n",
    "0 <= prices[i] <= 104"
   ]
  },
  {
   "cell_type": "code",
   "execution_count": 19,
   "id": "d00af7b8",
   "metadata": {},
   "outputs": [
    {
     "data": {
      "text/plain": [
       "0"
      ]
     },
     "execution_count": 19,
     "metadata": {},
     "output_type": "execute_result"
    }
   ],
   "source": [
    "def max_profit(arr):\n",
    "    min_ele = arr[0]\n",
    "    sub = 0\n",
    "    profit = 0\n",
    "    for i in range(len(arr)-1):\n",
    "        if min_ele > arr[i+1]:\n",
    "            min_ele = arr[i+1]\n",
    "        else:\n",
    "            sub = arr[i+1] - min_ele\n",
    "            if sub > profit:\n",
    "                profit = sub\n",
    "    return profit\n",
    "\n",
    "max_profit([7,6,4,3,1])"
   ]
  },
  {
   "cell_type": "markdown",
   "id": "ff575c7e",
   "metadata": {},
   "source": [
    "217. Contains Duplicate\n",
    "Easy\n",
    "\n",
    "1931\n",
    "\n",
    "860\n",
    "\n",
    "Add to List\n",
    "\n",
    "Share\n",
    "Given an integer array nums, return true if any value appears at least twice in the array, and return false if every element is distinct.\n",
    "\n",
    " \n",
    "\n",
    "Example 1:\n",
    "\n",
    "Input: nums = [1,2,3,1]\n",
    "Output: true\n",
    "Example 2:\n",
    "\n",
    "Input: nums = [1,2,3,4]\n",
    "Output: false\n",
    "Example 3:\n",
    "\n",
    "Input: nums = [1,1,1,3,3,4,3,2,4,2]\n",
    "Output: true\n",
    " \n",
    "\n",
    "Constraints:\n",
    "\n",
    "1 <= nums.length <= 105\n",
    "-109 <= nums[i] <= 109"
   ]
  },
  {
   "cell_type": "code",
   "execution_count": 43,
   "id": "b364b7a5",
   "metadata": {},
   "outputs": [
    {
     "data": {
      "text/plain": [
       "True"
      ]
     },
     "execution_count": 43,
     "metadata": {},
     "output_type": "execute_result"
    }
   ],
   "source": [
    "from collections import OrderedDict\n",
    "def duplicates(arr):\n",
    "    hash_map = OrderedDict()\n",
    "    for ele in arr:\n",
    "        if ele not in hash_map:\n",
    "            hash_map[ele] = 1\n",
    "        else:\n",
    "            return True\n",
    "    return False\n",
    "\n",
    "duplicates([1,2,3,1])"
   ]
  },
  {
   "cell_type": "markdown",
   "id": "26dde754",
   "metadata": {},
   "source": [
    "238. Product of Array Except Self\n",
    "Medium\n",
    "\n",
    "8047\n",
    "\n",
    "583\n",
    "\n",
    "Add to List\n",
    "\n",
    "Share\n",
    "Given an integer array nums, return an array answer such that answer[i] is equal to the product of all the elements of nums except nums[i].\n",
    "\n",
    "The product of any prefix or suffix of nums is guaranteed to fit in a 32-bit integer.\n",
    "\n",
    "You must write an algorithm that runs in O(n) time and without using the division operation.\n",
    "\n",
    " \n",
    "\n",
    "Example 1:\n",
    "\n",
    "Input: nums = [1,2,3,4]\n",
    "Output: [24,12,8,6]\n",
    "Example 2:\n",
    "\n",
    "Input: nums = [-1,1,0,-3,3]\n",
    "Output: [0,0,9,0,0]\n",
    " \n",
    "\n",
    "Constraints:\n",
    "\n",
    "2 <= nums.length <= 105\n",
    "-30 <= nums[i] <= 30\n",
    "The product of any prefix or suffix of nums is guaranteed to fit in a 32-bit integer.\n"
   ]
  },
  {
   "cell_type": "code",
   "execution_count": 37,
   "id": "f628bc82",
   "metadata": {},
   "outputs": [
    {
     "data": {
      "text/plain": [
       "[0, 0, 9, 0, 0]"
      ]
     },
     "execution_count": 37,
     "metadata": {},
     "output_type": "execute_result"
    }
   ],
   "source": [
    "def productExpectself(arr):\n",
    "    prod_list = []\n",
    "    prod_num = 1\n",
    "    for i in range(len(arr)):\n",
    "        if i == 0:\n",
    "            prod_list.append(arr[i])\n",
    "        else:\n",
    "            prod_list.append(arr[i-1]*arr[i])\n",
    "    for i in range(len(arr)-1,-1,-1):\n",
    "        if i == 0:\n",
    "            prod_list[i] = prod_num\n",
    "        else:\n",
    "            prod_list[i] = prod_num*prod_list[i-1]\n",
    "            prod_num = prod_num*arr[i]\n",
    "    return prod_list\n",
    "\n",
    "productExpectself([-1,1,0,-3,3])"
   ]
  },
  {
   "cell_type": "markdown",
   "id": "7933698c",
   "metadata": {},
   "source": [
    "53. Maximum Subarray\n",
    "Easy\n",
    "\n",
    "13055\n",
    "\n",
    "621\n",
    "\n",
    "Add to List\n",
    "\n",
    "Share\n",
    "Given an integer array nums, find the contiguous subarray (containing at least one number) which has the largest sum and return its sum.\n",
    "\n",
    " \n",
    "\n",
    "Example 1:\n",
    "\n",
    "Input: nums = [-2,1,-3,4,-1,2,1,-5,4]\n",
    "Output: 6\n",
    "Explanation: [4,-1,2,1] has the largest sum = 6.\n",
    "Example 2:\n",
    "\n",
    "Input: nums = [1]\n",
    "Output: 1\n",
    "Example 3:\n",
    "\n",
    "Input: nums = [5,4,-1,7,8]\n",
    "Output: 23"
   ]
  },
  {
   "cell_type": "code",
   "execution_count": 41,
   "id": "a7fcff5f",
   "metadata": {},
   "outputs": [
    {
     "data": {
      "text/plain": [
       "23"
      ]
     },
     "execution_count": 41,
     "metadata": {},
     "output_type": "execute_result"
    }
   ],
   "source": [
    "def maxSubArray(arr):\n",
    "    arr_len = len(arr)\n",
    "    current_sum = 0\n",
    "    max_sum = 0\n",
    "    \n",
    "    for i in arr:\n",
    "        current_sum = current_sum+i\n",
    "        if current_sum < 0:\n",
    "            current_sum = 0\n",
    "        elif current_sum > max_sum:\n",
    "            max_sum = current_sum\n",
    "            \n",
    "    return max_sum \n",
    "\n",
    "maxSubArray([5,4,-1,7,8])\n",
    "    "
   ]
  },
  {
   "cell_type": "markdown",
   "id": "6933155c",
   "metadata": {},
   "source": [
    "152. Maximum Product Subarray\n",
    "Medium\n",
    "\n",
    "7460\n",
    "\n",
    "240\n",
    "\n",
    "Add to List\n",
    "\n",
    "Share\n",
    "Given an integer array nums, find a contiguous non-empty subarray within the array that has the largest product, and return the product.\n",
    "\n",
    "It is guaranteed that the answer will fit in a 32-bit integer.\n",
    "\n",
    "A subarray is a contiguous subsequence of the array.\n",
    "\n",
    " \n",
    "\n",
    "Example 1:\n",
    "\n",
    "Input: nums = [2,3,-2,4]\n",
    "Output: 6\n",
    "Explanation: [2,3] has the largest product 6.\n",
    "Example 2:\n",
    "\n",
    "Input: nums = [-2,0,-1]\n",
    "Output: 0\n",
    "Explanation: The result cannot be 2, because [-2,-1] is not a subarray.\n",
    " \n",
    "\n",
    "Constraints:\n",
    "\n",
    "1 <= nums.length <= 2 * 104\n",
    "-10 <= nums[i] <= 10\n",
    "The product of any prefix or suffix of nums is guaranteed to fit in a 32-bit integer."
   ]
  },
  {
   "cell_type": "code",
   "execution_count": 44,
   "id": "1af04c64",
   "metadata": {},
   "outputs": [
    {
     "data": {
      "text/plain": [
       "0"
      ]
     },
     "execution_count": 44,
     "metadata": {},
     "output_type": "execute_result"
    }
   ],
   "source": [
    "def maxProduct(arr):\n",
    "    product = 1\n",
    "    max_prod = 0\n",
    "    for i in arr:\n",
    "        product = product*i\n",
    "        if product < 0:\n",
    "            product = 0\n",
    "        else:\n",
    "            max_prod = max(product, max_prod)\n",
    "    return max_prod\n",
    "\n",
    "maxProduct([-2,0,-1])"
   ]
  },
  {
   "cell_type": "markdown",
   "id": "132b3cb5",
   "metadata": {},
   "source": [
    "153. Find Minimum in Rotated Sorted Array\n",
    "Medium\n",
    "\n",
    "3877\n",
    "\n",
    "313\n",
    "\n",
    "Add to List\n",
    "\n",
    "Share\n",
    "Suppose an array of length n sorted in ascending order is rotated between 1 and n times. For example, the array nums = [0,1,2,4,5,6,7] might become:\n",
    "\n",
    "[4,5,6,7,0,1,2] if it was rotated 4 times.\n",
    "[0,1,2,4,5,6,7] if it was rotated 7 times.\n",
    "Notice that rotating an array [a[0], a[1], a[2], ..., a[n-1]] 1 time results in the array [a[n-1], a[0], a[1], a[2], ..., a[n-2]].\n",
    "\n",
    "Given the sorted rotated array nums of unique elements, return the minimum element of this array.\n",
    "\n",
    "You must write an algorithm that runs in O(log n) time.\n",
    "\n",
    " \n",
    "\n",
    "Example 1:\n",
    "\n",
    "Input: nums = [3,4,5,1,2]\n",
    "Output: 1\n",
    "Explanation: The original array was [1,2,3,4,5] rotated 3 times.\n",
    "Example 2:\n",
    "\n",
    "Input: nums = [4,5,6,7,0,1,2]\n",
    "Output: 0\n",
    "Explanation: The original array was [0,1,2,4,5,6,7] and it was rotated 4 times.\n",
    "Example 3:\n",
    "\n",
    "Input: nums = [11,13,15,17]\n",
    "Output: 11\n",
    "Explanation: The original array was [11,13,15,17] and it was rotated 4 times. \n",
    " \n",
    "\n",
    "Constraints:\n",
    "\n",
    "n == nums.length\n",
    "1 <= n <= 5000\n",
    "-5000 <= nums[i] <= 5000\n",
    "All the integers of nums are unique.\n",
    "nums is sorted and rotated between 1 and n times."
   ]
  },
  {
   "cell_type": "code",
   "execution_count": 13,
   "id": "f2b2e808",
   "metadata": {},
   "outputs": [
    {
     "data": {
      "text/plain": [
       "1"
      ]
     },
     "execution_count": 13,
     "metadata": {},
     "output_type": "execute_result"
    }
   ],
   "source": [
    "def findMin(arr):\n",
    "    l = 0\n",
    "    r = len(arr)-1\n",
    "    return helper(arr, l , r)\n",
    "\n",
    "def helper(arr, left, right):\n",
    "    if left == right:\n",
    "        return arr[left]\n",
    "    elif left<right:\n",
    "        mid = (left+right)//2\n",
    "        if arr[mid]<arr[mid-1] and arr[mid]<arr[mid+1]:\n",
    "            return arr[mid]\n",
    "        elif arr[mid+1]<arr[mid-1]:\n",
    "            return helper(arr, mid+1, right)\n",
    "        elif arr[mid-1]<arr[mid+1]:\n",
    "            return helper(arr, left, mid-1)\n",
    "        \n",
    "findMin([3,4,5,1,2])"
   ]
  },
  {
   "cell_type": "markdown",
   "id": "ccfcfd34",
   "metadata": {},
   "source": [
    "33. Search in Rotated Sorted Array\n",
    "Medium\n",
    "\n",
    "8661\n",
    "\n",
    "707\n",
    "\n",
    "Add to List\n",
    "\n",
    "Share\n",
    "There is an integer array nums sorted in ascending order (with distinct values).\n",
    "\n",
    "Prior to being passed to your function, nums is rotated at an unknown pivot index k (0 <= k < nums.length) such that the resulting array is [nums[k], nums[k+1], ..., nums[n-1], nums[0], nums[1], ..., nums[k-1]] (0-indexed). For example, [0,1,2,4,5,6,7] might be rotated at pivot index 3 and become [4,5,6,7,0,1,2].\n",
    "\n",
    "Given the array nums after the rotation and an integer target, return the index of target if it is in nums, or -1 if it is not in nums.\n",
    "\n",
    "You must write an algorithm with O(log n) runtime complexity.\n",
    "\n",
    " \n",
    "\n",
    "Example 1:\n",
    "\n",
    "Input: nums = [4,5,6,7,0,1,2], target = 0\n",
    "Output: 4\n",
    "Example 2:\n",
    "\n",
    "Input: nums = [4,5,6,7,0,1,2], target = 3\n",
    "Output: -1\n",
    "Example 3:\n",
    "\n",
    "Input: nums = [1], target = 0\n",
    "Output: -1\n",
    " \n",
    "\n",
    "Constraints:\n",
    "\n",
    "1 <= nums.length <= 5000\n",
    "-104 <= nums[i] <= 104\n",
    "All values of nums are unique.\n",
    "nums is guaranteed to be rotated at some pivot.\n",
    "-104 <= target <= 104"
   ]
  },
  {
   "cell_type": "code",
   "execution_count": 18,
   "id": "d1084ef2",
   "metadata": {},
   "outputs": [
    {
     "data": {
      "text/plain": [
       "0"
      ]
     },
     "execution_count": 18,
     "metadata": {},
     "output_type": "execute_result"
    }
   ],
   "source": [
    "def search(arr, target):\n",
    "    l = 0\n",
    "    r = len(arr)-1\n",
    "    return searchHelper(arr, l, r, target)\n",
    "    \n",
    "def searchHelper(arr, left, right, tar):\n",
    "    while(left<=right):\n",
    "        mid = (left+right)//2\n",
    "        if arr[mid] == tar:\n",
    "            return mid\n",
    "        elif arr[mid] > arr[left] and arr[left]<=tar<arr[mid]:\n",
    "            right = mid-1\n",
    "        else:\n",
    "            left = mid+1\n",
    "    return -1\n",
    "            \n",
    "        \n",
    "search([1], 1)"
   ]
  },
  {
   "cell_type": "markdown",
   "id": "b5ac7dda",
   "metadata": {},
   "source": [
    "Given an integer array nums, return all the triplets [nums[i], nums[j], nums[k]] such that i != j, i != k, and j != k, and nums[i] + nums[j] + nums[k] == 0.\n",
    "\n",
    "Notice that the solution set must not contain duplicate triplets.\n",
    "\n",
    " \n",
    "\n",
    "Example 1:\n",
    "\n",
    "Input: nums = [-1,0,1,2,-1,-4]\n",
    "Output: [[-1,-1,2],[-1,0,1]]\n",
    "Example 2:\n",
    "\n",
    "Input: nums = []\n",
    "Output: []\n",
    "Example 3:\n",
    "\n",
    "Input: nums = [0]\n",
    "Output: []\n",
    " \n",
    "\n",
    "Constraints:\n",
    "\n",
    "0 <= nums.length <= 3000\n",
    "-105 <= nums[i] <= 105"
   ]
  },
  {
   "cell_type": "code",
   "execution_count": 21,
   "id": "cb3cff08",
   "metadata": {},
   "outputs": [
    {
     "data": {
      "text/plain": [
       "[[-1, -1, 2], [-1, 0, 1]]"
      ]
     },
     "execution_count": 21,
     "metadata": {},
     "output_type": "execute_result"
    }
   ],
   "source": [
    "from collections import OrderedDict\n",
    "def threeSum(arr):\n",
    "    arr.sort()\n",
    "    three_Sum = []\n",
    "    for i in range(len(arr)):\n",
    "        right = len(arr)-1\n",
    "        left = i+1\n",
    "        while left<right:\n",
    "            total = arr[i] + arr[left] +arr[right]\n",
    "            if total < 0:\n",
    "                left += 1\n",
    "            elif total > 0:\n",
    "                right -=1\n",
    "            else:\n",
    "                three_Sum.append([arr[i], arr[left], arr[right]])\n",
    "                break\n",
    "    return three_Sum\n",
    "\n",
    "threeSum([-1,0,1,2,-1,-4])\n",
    "    \n",
    "        "
   ]
  },
  {
   "cell_type": "markdown",
   "id": "0b0f6941",
   "metadata": {},
   "source": [
    "11. Container With Most Water\n",
    "Medium\n",
    "\n",
    "10543\n",
    "\n",
    "748\n",
    "\n",
    "Add to List\n",
    "\n",
    "Share\n",
    "Given n non-negative integers a1, a2, ..., an , where each represents a point at coordinate (i, ai). n vertical lines are drawn such that the two endpoints of the line i is at (i, ai) and (i, 0). Find two lines, which, together with the x-axis forms a container, such that the container contains the most water.\n",
    "\n",
    "Notice that you may not slant the container.\n",
    "\n",
    " \n",
    "\n",
    "Example 1:\n",
    "\n",
    "\n",
    "Input: height = [1,8,6,2,5,4,8,3,7]\n",
    "Output: 49\n",
    "Explanation: The above vertical lines are represented by array [1,8,6,2,5,4,8,3,7]. In this case, the max area of water (blue section) the container can contain is 49.\n",
    "Example 2:\n",
    "\n",
    "Input: height = [1,1]\n",
    "Output: 1\n",
    "Example 3:\n",
    "\n",
    "Input: height = [4,3,2,1,4]\n",
    "Output: 16\n",
    "Example 4:\n",
    "\n",
    "Input: height = [1,2,1]\n",
    "Output: 2\n",
    " \n",
    "\n",
    "Constraints:\n",
    "\n",
    "n == height.length\n",
    "2 <= n <= 105\n",
    "0 <= height[i] <= 104"
   ]
  },
  {
   "cell_type": "code",
   "execution_count": 17,
   "id": "4be18260",
   "metadata": {},
   "outputs": [
    {
     "data": {
      "text/plain": [
       "49"
      ]
     },
     "execution_count": 17,
     "metadata": {},
     "output_type": "execute_result"
    }
   ],
   "source": [
    "def mostWater(arr):\n",
    "    left = 0\n",
    "    right = len(arr)-1\n",
    "    area = 0\n",
    "    while left < right:\n",
    "        min_height = min(arr[left], arr[right])\n",
    "        tot_area = min_height * (right - left)\n",
    "        if tot_area > area:\n",
    "            area = tot_area\n",
    "        elif arr[left] < arr[right]:\n",
    "            left+=1\n",
    "        elif arr[right] < arr[left]:\n",
    "            right-=1\n",
    "        else:\n",
    "            left+=1\n",
    "            right-=1\n",
    "    return area\n",
    "\n",
    "mostWater([1,8,6,2,5,4,8,3,7])"
   ]
  },
  {
   "cell_type": "code",
   "execution_count": null,
   "id": "5ade27bc",
   "metadata": {},
   "outputs": [],
   "source": []
  }
 ],
 "metadata": {
  "kernelspec": {
   "display_name": "Python 3",
   "language": "python",
   "name": "python3"
  },
  "language_info": {
   "codemirror_mode": {
    "name": "ipython",
    "version": 3
   },
   "file_extension": ".py",
   "mimetype": "text/x-python",
   "name": "python",
   "nbconvert_exporter": "python",
   "pygments_lexer": "ipython3",
   "version": "3.9.5"
  }
 },
 "nbformat": 4,
 "nbformat_minor": 5
}
